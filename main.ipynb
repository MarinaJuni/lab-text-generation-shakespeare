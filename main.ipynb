{
 "cells": [
  {
   "cell_type": "markdown",
   "metadata": {},
   "source": [
    "# Lab | Text Generation from Shakespeare's Sonnet\n",
    "\n",
    "This notebook explores the fascinating domain of text generation using a deep learning model trained on Shakespeare's sonnets. \n",
    "\n",
    "The objective is to create a neural network capable of generating text sequences that mimic the style and language of Shakespeare.\n",
    "\n",
    "By utilizing a Recurrent Neural Network (RNN) with Long Short-Term Memory (LSTM) layers, this project aims to demonstrate how a model can learn and replicate the complex patterns of early modern English. \n",
    "\n",
    "The dataset used consists of Shakespeare's sonnets, which are preprocessed and tokenized to serve as input for the model.\n",
    "\n",
    "Throughout this notebook, you will see the steps taken to prepare the data, build and train the model, and evaluate its performance in generating text. \n",
    "\n",
    "This lab provides a hands-on approach to understanding the intricacies of natural language processing (NLP) and the potential of machine learning in creative text generation."
   ]
  },
  {
   "cell_type": "markdown",
   "metadata": {},
   "source": [
    "Let's import necessary libraries"
   ]
  },
  {
   "cell_type": "code",
   "execution_count": 4,
   "metadata": {
    "id": "BOwsuGQQY9OL",
    "tags": []
   },
   "outputs": [],
   "source": [
    "from tensorflow.keras.preprocessing.sequence import pad_sequences\n",
    "from tensorflow.keras.layers import Embedding, LSTM, Dense, Dropout, Bidirectional\n",
    "from tensorflow.keras.preprocessing.text import Tokenizer\n",
    "from tensorflow.keras.models import Sequential\n",
    "from tensorflow.keras.optimizers import Adam\n",
    "from tensorflow.keras import regularizers\n",
    "import tensorflow.keras.utils as ku \n",
    "import numpy as np"
   ]
  },
  {
   "cell_type": "markdown",
   "metadata": {},
   "source": [
    "Let's get the data!"
   ]
  },
  {
   "cell_type": "code",
   "execution_count": 3,
   "metadata": {
    "tags": []
   },
   "outputs": [],
   "source": [
    "import requests\n",
    "url = 'https://raw.githubusercontent.com/martin-gorner/tensorflow-rnn-shakespeare/master/shakespeare/sonnets.txt'\n",
    "resp = requests.get(url)\n",
    "with open('sonnets.txt', 'wb') as f:\n",
    "    f.write(resp.content)\n",
    "\n",
    "data = open('sonnets.txt').read()\n",
    "\n",
    "corpus = data.lower().split(\"\\n\")"
   ]
  },
  {
   "cell_type": "markdown",
   "metadata": {},
   "source": [
    "Step 1: Initialise a tokenizer and fit it on the corpus variable using .fit_on_texts"
   ]
  },
  {
   "cell_type": "code",
   "execution_count": 5,
   "metadata": {},
   "outputs": [],
   "source": [
    "tokenizer = Tokenizer()\n",
    "tokenizer.fit_on_texts(corpus)"
   ]
  },
  {
   "cell_type": "markdown",
   "metadata": {},
   "source": [
    "Step 2: Calculate the Vocabulary Size\n",
    "\n",
    "Let's figure out how many unique words are in your corpus. This will be the size of your vocabulary.\n",
    "\n",
    "Calculate the length of tokenizer.word_index, add 1 to it and store it in a variable called total_words."
   ]
  },
  {
   "cell_type": "code",
   "execution_count": 7,
   "metadata": {},
   "outputs": [
    {
     "name": "stdout",
     "output_type": "stream",
     "text": [
      "3375\n"
     ]
    }
   ],
   "source": [
    "total_words = len(tokenizer.word_index) + 1\n",
    "print(total_words)"
   ]
  },
  {
   "cell_type": "markdown",
   "metadata": {},
   "source": [
    "Create an empty list called input_sequences.\n",
    "\n",
    "For each sentence in your corpus, convert the text into a sequence of integers using the tokenizer.\n",
    "Then, generate n-gram sequences from these tokens.\n",
    "\n",
    "Store the result in the list input_sequences."
   ]
  },
  {
   "cell_type": "markdown",
   "metadata": {},
   "source": [
    "Explanation:\n",
    "tokenizer.texts_to_sequences([line])[0]: Converts the sentence line into a list of integers.\n",
    "n-gram sequence generation: The for-loop generates all possible n-gram sequences from each sentence.\n",
    "Store in input_sequences: Each n-gram sequence is appended to the input_sequences list.\n"
   ]
  },
  {
   "cell_type": "code",
   "execution_count": 10,
   "metadata": {},
   "outputs": [
    {
     "name": "stdout",
     "output_type": "stream",
     "text": [
      "[[878], [3], [3, 2], [3, 2, 313], [3, 2, 313, 1375]]\n"
     ]
    }
   ],
   "source": [
    "input_sequences = []\n",
    "for line in corpus:\n",
    "    token_list = tokenizer.texts_to_sequences([line])[0]\n",
    "        \n",
    "    for i in range(1, len(token_list) + 1):\n",
    "        n_gram_sequence = token_list[:i]\n",
    "        input_sequences.append(n_gram_sequence)\n",
    "\n",
    "print(input_sequences[:5])"
   ]
  },
  {
   "cell_type": "markdown",
   "metadata": {},
   "source": [
    "Calculate the length of the longest sequence in input_sequences. Assign the result to a variable called max_sequence_len.\n",
    "\n",
    "Now pad the sequences using pad_sequences(input_sequences, maxlen=max_sequence_len, padding='pre').\n",
    "Convert it to a numpy array and assign the result back to our variable called input_sequences."
   ]
  },
  {
   "cell_type": "markdown",
   "metadata": {},
   "source": [
    "Explanation:\n",
    "max([len(seq) for seq in input_sequences]): Calculates the length of the longest sequence in input_sequences.\n",
    "pad_sequences(..., maxlen=max_sequence_len, padding='pre'): Pads all sequences to the length of the longest one, adding zeros at the beginning (because of padding='pre').\n",
    "Convert to numpy array: This ensures that the padded sequences are stored in a format that's suitable for model training."
   ]
  },
  {
   "cell_type": "code",
   "execution_count": 11,
   "metadata": {},
   "outputs": [
    {
     "name": "stdout",
     "output_type": "stream",
     "text": [
      "Shape of input_sequences: (17805, 11)\n"
     ]
    }
   ],
   "source": [
    "max_sequence_len = max([len(seq) for seq in input_sequences])\n",
    "input_sequences = pad_sequences(input_sequences, maxlen=max_sequence_len, padding='pre')\n",
    "input_sequences = np.array(input_sequences)\n",
    "print(f\"Shape of input_sequences: {input_sequences.shape}\")\n"
   ]
  },
  {
   "cell_type": "markdown",
   "metadata": {},
   "source": [
    "Prepare Predictors and Labels\n",
    "\n",
    "Split the sequences into two parts:\n",
    "\n",
    "- Predictors: All elements from input_sequences except the last one.\n",
    "- Labels: The last element of each sequence in input_sequences."
   ]
  },
  {
   "cell_type": "code",
   "execution_count": 12,
   "metadata": {
    "id": "PRnDnCW-Z7qv",
    "tags": []
   },
   "outputs": [
    {
     "name": "stdout",
     "output_type": "stream",
     "text": [
      "(17805, 10)\n",
      "(17805,)\n"
     ]
    }
   ],
   "source": [
    "predictors = input_sequences[:, :-1]\n",
    "labels = input_sequences[:, -1]\n",
    "\n",
    "print(predictors.shape)\n",
    "print(labels.shape)\n"
   ]
  },
  {
   "cell_type": "markdown",
   "metadata": {},
   "source": [
    "One-Hot Encode the Labels :\n",
    "\n",
    "Convert the labels (which are integers) into one-hot encoded vectors. \n",
    "\n",
    "Ensure the length of these vectors matches the total number of unique words in your vocabulary.\n",
    "\n",
    "Use ku.to_categorical() on labels with num_classes = total_words\n",
    "\n",
    "Assign the result back to our variable labels."
   ]
  },
  {
   "cell_type": "markdown",
   "metadata": {},
   "source": [
    "Explanation:\n",
    "ku.to_categorical(labels, num_classes=total_words): This converts each integer in labels into a one-hot encoded vector of length total_words. The num_classes=total_words ensures the one-hot vectors correspond to the vocabulary size.\n",
    "\n",
    "Shape verification: The output labels should now have a shape of (number_of_sequences, total_words) where each label is represented by a one-hot encoded vector."
   ]
  },
  {
   "cell_type": "code",
   "execution_count": 13,
   "metadata": {},
   "outputs": [
    {
     "name": "stdout",
     "output_type": "stream",
     "text": [
      "Shape of one-hot encoded labels: (17805, 3375)\n"
     ]
    }
   ],
   "source": [
    "labels = ku.to_categorical(labels, num_classes=total_words)\n",
    "print(f\"Shape of one-hot encoded labels: {labels.shape}\")\n"
   ]
  },
  {
   "cell_type": "markdown",
   "metadata": {},
   "source": [
    "# Initialize the Model\n",
    "\n",
    "Start by creating a Sequential model.\n",
    "\n",
    "Add Layers to the Model:\n",
    "\n",
    "Embedding Layer: The first layer is an embedding layer. It converts word indices into dense vectors of fixed size (100 in this case). Set the input length to the maximum sequence length minus one, which corresponds to the number of previous words the model will consider when predicting the next word.\n",
    "\n",
    "Bidirectional LSTM Layer: Add a Bidirectional LSTM layer with 150 units. This layer allows the model to learn context from both directions (past and future) in the sequence. return_sequences=True\n",
    "\n",
    "Dropout Layer: Add a dropout layer with a rate of 0.2 to prevent overfitting by randomly setting 20% of the input units to 0 during training.\n",
    "\n",
    "LSTM Layer: Add a second LSTM layer with 100 units. This layer processes the sequence and passes its output to the next layer.\n",
    "\n",
    "Dense Layer (Intermediate): Add a dense layer with half the total number of words as units, using ReLU activation. A regularization term (L2) is added to prevent overfitting.\n",
    "\n",
    "Dense Layer (Output): The final dense layer has as many units as there are words in the vocabulary, with a softmax activation function to output a probability distribution over all words."
   ]
  },
  {
   "cell_type": "markdown",
   "metadata": {},
   "source": [
    "Explanation of the Layers:\n",
    "Embedding Layer: Maps word indices to dense vectors of size 100. input_length is set to max_sequence_len-1 because the predictors are one word shorter than the padded sequences.\n",
    "Bidirectional LSTM Layer: Uses 150 units and reads the sequence both forward and backward. return_sequences=True allows this LSTM layer to output the full sequence, needed for subsequent layers.\n",
    "Dropout Layer: Helps reduce overfitting by randomly setting 20% of the input units to zero during each update.\n",
    "Second LSTM Layer: Processes the sequence with 100 units, capturing dependencies between words.\n",
    "Dense Layer (Intermediate): Reduces the number of units to half the vocabulary size and applies ReLU activation. L2 regularization is added to penalize large weights, preventing overfitting.\n",
    "Dense Layer (Output): Outputs a probability distribution over all words in the vocabulary using softmax activation, predicting the next word in the sequence."
   ]
  },
  {
   "cell_type": "code",
   "execution_count": 14,
   "metadata": {},
   "outputs": [
    {
     "name": "stderr",
     "output_type": "stream",
     "text": [
      "2024-10-04 13:30:13.506208: I external/local_xla/xla/stream_executor/cuda/cuda_executor.cc:901] successful NUMA node read from SysFS had negative value (-1), but there must be at least one NUMA node, so returning NUMA node zero. See more at https://github.com/torvalds/linux/blob/v6.0/Documentation/ABI/testing/sysfs-bus-pci#L344-L355\n",
      "2024-10-04 13:30:14.133520: I external/local_xla/xla/stream_executor/cuda/cuda_executor.cc:901] successful NUMA node read from SysFS had negative value (-1), but there must be at least one NUMA node, so returning NUMA node zero. See more at https://github.com/torvalds/linux/blob/v6.0/Documentation/ABI/testing/sysfs-bus-pci#L344-L355\n",
      "2024-10-04 13:30:14.133881: I external/local_xla/xla/stream_executor/cuda/cuda_executor.cc:901] successful NUMA node read from SysFS had negative value (-1), but there must be at least one NUMA node, so returning NUMA node zero. See more at https://github.com/torvalds/linux/blob/v6.0/Documentation/ABI/testing/sysfs-bus-pci#L344-L355\n",
      "2024-10-04 13:30:14.135949: I external/local_xla/xla/stream_executor/cuda/cuda_executor.cc:901] successful NUMA node read from SysFS had negative value (-1), but there must be at least one NUMA node, so returning NUMA node zero. See more at https://github.com/torvalds/linux/blob/v6.0/Documentation/ABI/testing/sysfs-bus-pci#L344-L355\n",
      "2024-10-04 13:30:14.136242: I external/local_xla/xla/stream_executor/cuda/cuda_executor.cc:901] successful NUMA node read from SysFS had negative value (-1), but there must be at least one NUMA node, so returning NUMA node zero. See more at https://github.com/torvalds/linux/blob/v6.0/Documentation/ABI/testing/sysfs-bus-pci#L344-L355\n",
      "2024-10-04 13:30:14.136492: I external/local_xla/xla/stream_executor/cuda/cuda_executor.cc:901] successful NUMA node read from SysFS had negative value (-1), but there must be at least one NUMA node, so returning NUMA node zero. See more at https://github.com/torvalds/linux/blob/v6.0/Documentation/ABI/testing/sysfs-bus-pci#L344-L355\n",
      "2024-10-04 13:30:18.031157: I external/local_xla/xla/stream_executor/cuda/cuda_executor.cc:901] successful NUMA node read from SysFS had negative value (-1), but there must be at least one NUMA node, so returning NUMA node zero. See more at https://github.com/torvalds/linux/blob/v6.0/Documentation/ABI/testing/sysfs-bus-pci#L344-L355\n",
      "2024-10-04 13:30:18.031414: I external/local_xla/xla/stream_executor/cuda/cuda_executor.cc:901] successful NUMA node read from SysFS had negative value (-1), but there must be at least one NUMA node, so returning NUMA node zero. See more at https://github.com/torvalds/linux/blob/v6.0/Documentation/ABI/testing/sysfs-bus-pci#L344-L355\n",
      "2024-10-04 13:30:18.031595: I external/local_xla/xla/stream_executor/cuda/cuda_executor.cc:901] successful NUMA node read from SysFS had negative value (-1), but there must be at least one NUMA node, so returning NUMA node zero. See more at https://github.com/torvalds/linux/blob/v6.0/Documentation/ABI/testing/sysfs-bus-pci#L344-L355\n",
      "2024-10-04 13:30:18.031721: I tensorflow/core/common_runtime/gpu/gpu_device.cc:1929] Created device /job:localhost/replica:0/task:0/device:GPU:0 with 15526 MB memory:  -> device: 0, name: Quadro P5000, pci bus id: 0000:00:05.0, compute capability: 6.1\n"
     ]
    },
    {
     "name": "stdout",
     "output_type": "stream",
     "text": [
      "Model: \"sequential\"\n",
      "_________________________________________________________________\n",
      " Layer (type)                Output Shape              Param #   \n",
      "=================================================================\n",
      " embedding (Embedding)       (None, 10, 100)           337500    \n",
      "                                                                 \n",
      " bidirectional (Bidirection  (None, 10, 300)           301200    \n",
      " al)                                                             \n",
      "                                                                 \n",
      " dropout (Dropout)           (None, 10, 300)           0         \n",
      "                                                                 \n",
      " lstm_1 (LSTM)               (None, 100)               160400    \n",
      "                                                                 \n",
      " dense (Dense)               (None, 1687)              170387    \n",
      "                                                                 \n",
      " dense_1 (Dense)             (None, 3375)              5697000   \n",
      "                                                                 \n",
      "=================================================================\n",
      "Total params: 6666487 (25.43 MB)\n",
      "Trainable params: 6666487 (25.43 MB)\n",
      "Non-trainable params: 0 (0.00 Byte)\n",
      "_________________________________________________________________\n"
     ]
    }
   ],
   "source": [
    "from tensorflow.keras.layers import Embedding, LSTM, Dense, Dropout, Bidirectional\n",
    "from tensorflow.keras.models import Sequential\n",
    "from tensorflow.keras import regularizers\n",
    "\n",
    "model = Sequential([\n",
    "\n",
    "    Embedding(input_dim=total_words, output_dim=100, input_length=max_sequence_len-1),\n",
    "    Bidirectional(LSTM(150, return_sequences=True)),\n",
    "    Dropout(0.2),\n",
    "    LSTM(100),\n",
    "    Dense(total_words // 2, activation='relu', kernel_regularizer=regularizers.l2(0.01)),\n",
    "    Dense(total_words, activation='softmax')\n",
    "])\n",
    "model.summary()\n"
   ]
  },
  {
   "cell_type": "markdown",
   "metadata": {},
   "source": [
    "# Compile the Model:\n",
    "\n",
    "Compile the model using categorical crossentropy as the loss function, the Adam optimizer for efficient training, and accuracy as the metric to evaluate during training."
   ]
  },
  {
   "cell_type": "markdown",
   "metadata": {},
   "source": [
    "Explanation:\n",
    "Loss Function (categorical_crossentropy): This is used for multi-class classification problems where the labels are one-hot encoded, which fits your case since each word is represented as a one-hot vector.\n",
    "Optimizer (Adam): The Adam optimizer is efficient and widely used for training deep learning models because it adapts the learning rate during training.\n",
    "Metrics (accuracy): The accuracy metric evaluates how often the model's predictions match the true labels.\n"
   ]
  },
  {
   "cell_type": "code",
   "execution_count": 17,
   "metadata": {},
   "outputs": [
    {
     "name": "stdout",
     "output_type": "stream",
     "text": [
      "Model compiled successfully!\n"
     ]
    }
   ],
   "source": [
    "from tensorflow.keras.optimizers import Adam\n",
    "\n",
    "model.compile(loss='categorical_crossentropy', \n",
    "              optimizer=Adam(), \n",
    "              metrics=['accuracy'])\n",
    "\n",
    "print(\"Model compiled successfully!\")\n"
   ]
  },
  {
   "cell_type": "markdown",
   "metadata": {},
   "source": [
    "# Print Model Summary:\n",
    "\n",
    "Use model.summary() to print a summary of the model, which shows the layers, their output shapes, and the number of parameters."
   ]
  },
  {
   "cell_type": "code",
   "execution_count": 18,
   "metadata": {},
   "outputs": [
    {
     "name": "stdout",
     "output_type": "stream",
     "text": [
      "Model: \"sequential\"\n",
      "_________________________________________________________________\n",
      " Layer (type)                Output Shape              Param #   \n",
      "=================================================================\n",
      " embedding (Embedding)       (None, 10, 100)           337500    \n",
      "                                                                 \n",
      " bidirectional (Bidirection  (None, 10, 300)           301200    \n",
      " al)                                                             \n",
      "                                                                 \n",
      " dropout (Dropout)           (None, 10, 300)           0         \n",
      "                                                                 \n",
      " lstm_1 (LSTM)               (None, 100)               160400    \n",
      "                                                                 \n",
      " dense (Dense)               (None, 1687)              170387    \n",
      "                                                                 \n",
      " dense_1 (Dense)             (None, 3375)              5697000   \n",
      "                                                                 \n",
      "=================================================================\n",
      "Total params: 6666487 (25.43 MB)\n",
      "Trainable params: 6666487 (25.43 MB)\n",
      "Non-trainable params: 0 (0.00 Byte)\n",
      "_________________________________________________________________\n"
     ]
    }
   ],
   "source": [
    "model.summary()"
   ]
  },
  {
   "cell_type": "markdown",
   "metadata": {},
   "source": [
    "# Now train the model for 50 epochs and assign it to a variable called history.\n",
    "\n",
    "Training the model with 50 epochs should get you around 40% accuracy.\n",
    "\n",
    "You can train the model for as many epochs as you like depending on the time and computing constraints you are facing. Ideally train it for a larger amount of epochs than 50.\n",
    "\n",
    "That way you will get better text generation at the end.\n",
    "\n",
    "However, dont waste your time."
   ]
  },
  {
   "cell_type": "code",
   "execution_count": 42,
   "metadata": {
    "id": "AIg2f1HBxqof",
    "tags": []
   },
   "outputs": [
    {
     "name": "stdout",
     "output_type": "stream",
     "text": [
      "Epoch 1/80\n",
      "279/279 [==============================] - 4s 16ms/step - loss: 2.3057 - accuracy: 0.5963\n",
      "Epoch 2/80\n",
      "279/279 [==============================] - 4s 16ms/step - loss: 2.2685 - accuracy: 0.6013\n",
      "Epoch 3/80\n",
      "279/279 [==============================] - 5s 16ms/step - loss: 2.2312 - accuracy: 0.6097\n",
      "Epoch 4/80\n",
      "279/279 [==============================] - 4s 16ms/step - loss: 2.2058 - accuracy: 0.6154\n",
      "Epoch 5/80\n",
      "279/279 [==============================] - 5s 17ms/step - loss: 2.1840 - accuracy: 0.6191\n",
      "Epoch 6/80\n",
      "279/279 [==============================] - 4s 16ms/step - loss: 2.1666 - accuracy: 0.6235\n",
      "Epoch 7/80\n",
      "279/279 [==============================] - 5s 18ms/step - loss: 2.1357 - accuracy: 0.6289\n",
      "Epoch 8/80\n",
      "279/279 [==============================] - 6s 21ms/step - loss: 2.1130 - accuracy: 0.6362\n",
      "Epoch 9/80\n",
      "279/279 [==============================] - 5s 18ms/step - loss: 2.0917 - accuracy: 0.6372\n",
      "Epoch 10/80\n",
      "279/279 [==============================] - 5s 19ms/step - loss: 2.0790 - accuracy: 0.6391\n",
      "Epoch 11/80\n",
      "279/279 [==============================] - 5s 19ms/step - loss: 2.0413 - accuracy: 0.6478\n",
      "Epoch 12/80\n",
      "279/279 [==============================] - 6s 20ms/step - loss: 2.0301 - accuracy: 0.6518\n",
      "Epoch 13/80\n",
      "279/279 [==============================] - 6s 20ms/step - loss: 1.9911 - accuracy: 0.6581\n",
      "Epoch 14/80\n",
      "279/279 [==============================] - 5s 19ms/step - loss: 1.9883 - accuracy: 0.6582\n",
      "Epoch 15/80\n",
      "279/279 [==============================] - 6s 20ms/step - loss: 1.9645 - accuracy: 0.6664\n",
      "Epoch 16/80\n",
      "279/279 [==============================] - 6s 20ms/step - loss: 1.9534 - accuracy: 0.6651\n",
      "Epoch 17/80\n",
      "279/279 [==============================] - 5s 19ms/step - loss: 1.9392 - accuracy: 0.6667\n",
      "Epoch 18/80\n",
      "279/279 [==============================] - 6s 20ms/step - loss: 1.9190 - accuracy: 0.6710\n",
      "Epoch 19/80\n",
      "279/279 [==============================] - 5s 19ms/step - loss: 1.8965 - accuracy: 0.6768\n",
      "Epoch 20/80\n",
      "279/279 [==============================] - 6s 20ms/step - loss: 1.8741 - accuracy: 0.6807\n",
      "Epoch 21/80\n",
      "279/279 [==============================] - 6s 20ms/step - loss: 1.8637 - accuracy: 0.6825\n",
      "Epoch 22/80\n",
      "279/279 [==============================] - 6s 20ms/step - loss: 1.8648 - accuracy: 0.6785\n",
      "Epoch 23/80\n",
      "279/279 [==============================] - 5s 19ms/step - loss: 1.8474 - accuracy: 0.6868\n",
      "Epoch 24/80\n",
      "279/279 [==============================] - 5s 20ms/step - loss: 1.8168 - accuracy: 0.6911\n",
      "Epoch 25/80\n",
      "279/279 [==============================] - 5s 18ms/step - loss: 1.8083 - accuracy: 0.6920\n",
      "Epoch 26/80\n",
      "279/279 [==============================] - 4s 16ms/step - loss: 1.7949 - accuracy: 0.6951\n",
      "Epoch 27/80\n",
      "279/279 [==============================] - 5s 17ms/step - loss: 1.7866 - accuracy: 0.6941\n",
      "Epoch 28/80\n",
      "279/279 [==============================] - 5s 19ms/step - loss: 1.7722 - accuracy: 0.6972\n",
      "Epoch 29/80\n",
      "279/279 [==============================] - 5s 16ms/step - loss: 1.7507 - accuracy: 0.7028\n",
      "Epoch 30/80\n",
      "279/279 [==============================] - 5s 19ms/step - loss: 1.7442 - accuracy: 0.7000\n",
      "Epoch 31/80\n",
      "279/279 [==============================] - 5s 20ms/step - loss: 1.7378 - accuracy: 0.7038\n",
      "Epoch 32/80\n",
      "279/279 [==============================] - 6s 21ms/step - loss: 1.7332 - accuracy: 0.7022\n",
      "Epoch 33/80\n",
      "279/279 [==============================] - 6s 21ms/step - loss: 1.7230 - accuracy: 0.7035\n",
      "Epoch 34/80\n",
      "279/279 [==============================] - 5s 19ms/step - loss: 1.7157 - accuracy: 0.7051\n",
      "Epoch 35/80\n",
      "279/279 [==============================] - 5s 16ms/step - loss: 1.6990 - accuracy: 0.7119\n",
      "Epoch 36/80\n",
      "279/279 [==============================] - 4s 16ms/step - loss: 1.6956 - accuracy: 0.7097\n",
      "Epoch 37/80\n",
      "279/279 [==============================] - 5s 20ms/step - loss: 1.6752 - accuracy: 0.7143\n",
      "Epoch 38/80\n",
      "279/279 [==============================] - 6s 20ms/step - loss: 1.6756 - accuracy: 0.7127\n",
      "Epoch 39/80\n",
      "279/279 [==============================] - 5s 18ms/step - loss: 1.6577 - accuracy: 0.7156\n",
      "Epoch 40/80\n",
      "279/279 [==============================] - 5s 19ms/step - loss: 1.6497 - accuracy: 0.7154\n",
      "Epoch 41/80\n",
      "279/279 [==============================] - 5s 16ms/step - loss: 1.6458 - accuracy: 0.7168\n",
      "Epoch 42/80\n",
      "279/279 [==============================] - 4s 16ms/step - loss: 1.6393 - accuracy: 0.7173\n",
      "Epoch 43/80\n",
      "279/279 [==============================] - 4s 16ms/step - loss: 1.6211 - accuracy: 0.7219\n",
      "Epoch 44/80\n",
      "279/279 [==============================] - 5s 19ms/step - loss: 1.6180 - accuracy: 0.7211\n",
      "Epoch 45/80\n",
      "279/279 [==============================] - 6s 20ms/step - loss: 1.6106 - accuracy: 0.7196\n",
      "Epoch 46/80\n",
      "279/279 [==============================] - 5s 20ms/step - loss: 1.5955 - accuracy: 0.7266\n",
      "Epoch 47/80\n",
      "279/279 [==============================] - 5s 17ms/step - loss: 1.6036 - accuracy: 0.7222\n",
      "Epoch 48/80\n",
      "279/279 [==============================] - 4s 16ms/step - loss: 1.5987 - accuracy: 0.7232\n",
      "Epoch 49/80\n",
      "279/279 [==============================] - 5s 19ms/step - loss: 1.5805 - accuracy: 0.7272\n",
      "Epoch 50/80\n",
      "279/279 [==============================] - 6s 20ms/step - loss: 1.5813 - accuracy: 0.7272\n",
      "Epoch 51/80\n",
      "279/279 [==============================] - 5s 19ms/step - loss: 1.5747 - accuracy: 0.7264\n",
      "Epoch 52/80\n",
      "279/279 [==============================] - 5s 19ms/step - loss: 1.5677 - accuracy: 0.7266\n",
      "Epoch 53/80\n",
      "279/279 [==============================] - 5s 19ms/step - loss: 1.5514 - accuracy: 0.7313\n",
      "Epoch 54/80\n",
      "279/279 [==============================] - 6s 21ms/step - loss: 1.5637 - accuracy: 0.7256\n",
      "Epoch 55/80\n",
      "279/279 [==============================] - 5s 20ms/step - loss: 1.5619 - accuracy: 0.7268\n",
      "Epoch 56/80\n",
      "279/279 [==============================] - 5s 19ms/step - loss: 1.5468 - accuracy: 0.7299\n",
      "Epoch 57/80\n",
      "279/279 [==============================] - 5s 18ms/step - loss: 1.5405 - accuracy: 0.7283\n",
      "Epoch 58/80\n",
      "279/279 [==============================] - 6s 21ms/step - loss: 1.5236 - accuracy: 0.7346\n",
      "Epoch 59/80\n",
      "279/279 [==============================] - 6s 20ms/step - loss: 1.5161 - accuracy: 0.7342\n",
      "Epoch 60/80\n",
      "279/279 [==============================] - 6s 20ms/step - loss: 1.5199 - accuracy: 0.7333\n",
      "Epoch 61/80\n",
      "279/279 [==============================] - 6s 21ms/step - loss: 1.5133 - accuracy: 0.7345\n",
      "Epoch 62/80\n",
      "279/279 [==============================] - 5s 19ms/step - loss: 1.5157 - accuracy: 0.7333\n",
      "Epoch 63/80\n",
      "279/279 [==============================] - 4s 16ms/step - loss: 1.5007 - accuracy: 0.7377\n",
      "Epoch 64/80\n",
      "279/279 [==============================] - 4s 16ms/step - loss: 1.5093 - accuracy: 0.7345\n",
      "Epoch 65/80\n",
      "279/279 [==============================] - 4s 16ms/step - loss: 1.4927 - accuracy: 0.7363\n",
      "Epoch 66/80\n",
      "279/279 [==============================] - 5s 16ms/step - loss: 1.4950 - accuracy: 0.7347\n",
      "Epoch 67/80\n",
      "279/279 [==============================] - 6s 20ms/step - loss: 1.5074 - accuracy: 0.7315\n",
      "Epoch 68/80\n",
      "279/279 [==============================] - 5s 20ms/step - loss: 1.4857 - accuracy: 0.7354\n",
      "Epoch 69/80\n",
      "279/279 [==============================] - 5s 19ms/step - loss: 1.4760 - accuracy: 0.7386\n",
      "Epoch 70/80\n",
      "279/279 [==============================] - 5s 17ms/step - loss: 1.4682 - accuracy: 0.7396\n",
      "Epoch 71/80\n",
      "279/279 [==============================] - 5s 16ms/step - loss: 1.4584 - accuracy: 0.7409\n",
      "Epoch 72/80\n",
      "279/279 [==============================] - 5s 16ms/step - loss: 1.4593 - accuracy: 0.7396\n",
      "Epoch 73/80\n",
      "279/279 [==============================] - 4s 16ms/step - loss: 1.4655 - accuracy: 0.7386\n",
      "Epoch 74/80\n",
      "279/279 [==============================] - 4s 16ms/step - loss: 1.4564 - accuracy: 0.7400\n",
      "Epoch 75/80\n",
      "279/279 [==============================] - 5s 16ms/step - loss: 1.4713 - accuracy: 0.7360\n",
      "Epoch 76/80\n",
      "279/279 [==============================] - 5s 20ms/step - loss: 1.4716 - accuracy: 0.7370\n",
      "Epoch 77/80\n",
      "279/279 [==============================] - 6s 20ms/step - loss: 1.4619 - accuracy: 0.7371\n",
      "Epoch 78/80\n",
      "279/279 [==============================] - 5s 19ms/step - loss: 1.4537 - accuracy: 0.7384\n",
      "Epoch 79/80\n",
      "279/279 [==============================] - 6s 20ms/step - loss: 1.4481 - accuracy: 0.7383\n",
      "Epoch 80/80\n",
      "279/279 [==============================] - 6s 21ms/step - loss: 1.4411 - accuracy: 0.7406\n"
     ]
    }
   ],
   "source": [
    "history = model.fit(predictors, labels, epochs=80, batch_size=64, verbose=1)\n"
   ]
  },
  {
   "cell_type": "markdown",
   "metadata": {},
   "source": [
    "# Use plt from matplotlib to plot the training accuracy over epochs and the loss over epochs"
   ]
  },
  {
   "cell_type": "markdown",
   "metadata": {},
   "source": [
    "First you will have to get the accuracy and loss data over epochs, you can do this by using methods on your model."
   ]
  },
  {
   "cell_type": "code",
   "execution_count": 43,
   "metadata": {
    "id": "1fXTEO3GJ282",
    "tags": []
   },
   "outputs": [
    {
     "data": {
      "image/png": "[encoded data removed]",
      "text/plain": [
       "<Figure size 1200x500 with 2 Axes>"
      ]
     },
     "metadata": {},
     "output_type": "display_data"
    }
   ],
   "source": [
    "import matplotlib.pyplot as plt\n",
    "\n",
    "accuracy = history.history['accuracy']\n",
    "loss = history.history['loss']\n",
    "epochs = range(1, len(accuracy) + 1)  \n",
    "plt.figure(figsize=(12, 5))\n",
    "\n",
    "plt.subplot(1, 2, 1)\n",
    "plt.plot(epochs, accuracy, label='Training Accuracy', color='blue')\n",
    "plt.title('Model Accuracy')\n",
    "plt.xlabel('Epochs')\n",
    "plt.ylabel('Accuracy')\n",
    "plt.xticks(epochs)  \n",
    "plt.legend()\n",
    "\n",
    "plt.subplot(1, 2, 2)\n",
    "plt.plot(epochs, loss, label='Training Loss', color='red')\n",
    "plt.title('Model Loss')\n",
    "plt.xlabel('Epochs')\n",
    "plt.ylabel('Loss')\n",
    "plt.xticks(epochs)  \n",
    "plt.legend()\n",
    "\n",
    "plt.tight_layout()\n",
    "plt.show()\n"
   ]
  },
  {
   "cell_type": "markdown",
   "metadata": {},
   "source": [
    "# Generate text with the model based on a seed text\n",
    "\n",
    "Now you will create two variables :\n",
    "\n",
    "- seed_text = 'Write the text you want the model to use as a starting point to generate the next words'\n",
    "- next_words = number_of_words_you_want_the_model_to_generate\n",
    "\n",
    "Please change number_of_words_you_want_the_model_to_generate by an actual integer."
   ]
  },
  {
   "cell_type": "code",
   "execution_count": 44,
   "metadata": {},
   "outputs": [],
   "source": [
    "seed_text = 'I heard you singing in the midnight air'\n",
    "next_words = 30  \n"
   ]
  },
  {
   "cell_type": "markdown",
   "metadata": {},
   "source": [
    "Now create a loop that runs based on the next_words variable and generates new text based on your seed_text input string. Print the full text with the generated text at the end.\n",
    "\n",
    "This time you dont get detailed instructions.\n",
    "\n",
    "Have fun!"
   ]
  },
  {
   "cell_type": "code",
   "execution_count": 45,
   "metadata": {
    "id": "6Vc6PHgxa6Hm",
    "tags": []
   },
   "outputs": [
    {
     "name": "stdout",
     "output_type": "stream",
     "text": [
      "Generated Text:\n",
      " I heard you singing in the midnight air in life of mind days dyed allay'd dyed blind blind chest thee blind eye best alone write thee alone thee thee so much hell best rhyme thought should thee away\n"
     ]
    }
   ],
   "source": [
    "def generate_text(model, seed_text, next_words, tokenizer, max_sequence_len):\n",
    "    for _ in range(next_words):\n",
    "        token_list = tokenizer.texts_to_sequences([seed_text])[0]\n",
    "        token_list = pad_sequences([token_list], maxlen=max_sequence_len-1, padding='pre')\n",
    "    \n",
    "        predicted = model.predict(token_list, verbose=0)\n",
    "        predicted_word_index = np.argmax(predicted, axis=-1)[0]\n",
    "        output_word = ''\n",
    "        for word, index in tokenizer.word_index.items():\n",
    "            if index == predicted_word_index:\n",
    "                output_word = word\n",
    "                break\n",
    "        seed_text += \" \" + output_word\n",
    "\n",
    "    return seed_text\n",
    "\n",
    "generated_text = generate_text(model, seed_text, next_words, tokenizer, max_sequence_len)\n",
    "\n",
    "print(\"Generated Text:\\n\", generated_text)\n"
   ]
  },
  {
   "cell_type": "markdown",
   "metadata": {},
   "source": [
    "Experiment with at least 3 different seed_text strings and see what happens!"
   ]
  },
  {
   "cell_type": "code",
   "execution_count": 31,
   "metadata": {},
   "outputs": [
    {
     "name": "stdout",
     "output_type": "stream",
     "text": [
      "Generated Text from Seed 'All the leaves are brown, and the sky is grey':\n",
      "All the leaves are brown, and the sky is grey of told days arising days dearer prove thee last on me perjured thee not not\n",
      "\n"
     ]
    }
   ],
   "source": [
    "seed_texts = [\n",
    "    'All the leaves are brown, and the sky is grey'\n",
    "    ]\n",
    "\n",
    "next_words = 15\n",
    "\n",
    "# Loop through each seed text and generate new text\n",
    "for seed in seed_texts:\n",
    "    generated_text = generate_text(model, seed, next_words, tokenizer, max_sequence_len)\n",
    "    print(f\"Generated Text from Seed '{seed}':\\n{generated_text}\\n\")\n"
   ]
  },
  {
   "cell_type": "code",
   "execution_count": 33,
   "metadata": {},
   "outputs": [
    {
     "name": "stdout",
     "output_type": "stream",
     "text": [
      "Generated Text from Seed 'Purple haze, all in my brain...':\n",
      "Purple haze, all in my brain... and stain eyes eyes strong sum new days need done go so so ' young thee mine art bright be\n",
      "\n"
     ]
    }
   ],
   "source": [
    "seed_texts = [\n",
    "    'Purple haze, all in my brain...'\n",
    "    ]\n",
    "\n",
    "next_words = 20\n",
    "\n",
    "# Loop through each seed text and generate new text\n",
    "for seed in seed_texts:\n",
    "    generated_text = generate_text(model, seed, next_words, tokenizer, max_sequence_len)\n",
    "    print(f\"Generated Text from Seed '{seed}':\\n{generated_text}\\n\")\n"
   ]
  },
  {
   "cell_type": "code",
   "execution_count": 34,
   "metadata": {},
   "outputs": [
    {
     "name": "stdout",
     "output_type": "stream",
     "text": [
      "Generated Text from Seed 'People are strange when you are a stranger':\n",
      "People are strange when you are a stranger dream doth flatter new days need convert convert convert heaven told told good friend of\n",
      "\n"
     ]
    }
   ],
   "source": [
    "# List of different seed texts to experiment with\n",
    "seed_texts = [\n",
    "    'People are strange when you are a stranger'\n",
    "    ]\n",
    "\n",
    "# Number of words to generate\n",
    "next_words = 15\n",
    "\n",
    "# Loop through each seed text and generate new text\n",
    "for seed in seed_texts:\n",
    "    generated_text = generate_text(model, seed, next_words, tokenizer, max_sequence_len)\n",
    "    print(f\"Generated Text from Seed '{seed}':\\n{generated_text}\\n\")\n"
   ]
  },
  {
   "cell_type": "code",
   "execution_count": 37,
   "metadata": {},
   "outputs": [
    {
     "name": "stdout",
     "output_type": "stream",
     "text": [
      "Generated Text from Seed 'I heard you singing in the midnight air.':\n",
      "I heard you singing in the midnight air. to make them die but good part sight grow so true woe needing lie '\n",
      "\n"
     ]
    }
   ],
   "source": [
    "seed_texts = [\n",
    "    'I heard you singing in the midnight air.'\n",
    "    ]\n",
    "\n",
    "next_words = 15\n",
    "\n",
    "for seed in seed_texts:\n",
    "    generated_text = generate_text(model, seed, next_words, tokenizer, max_sequence_len)\n",
    "    print(f\"Generated Text from Seed '{seed}':\\n{generated_text}\\n\")\n"
   ]
  }
 ],
 "metadata": {
  "accelerator": "GPU",
  "colab": {
   "name": "NLP_Week4_Exercise_Shakespeare_Answer.ipynb",
   "provenance": [],
   "toc_visible": true
  },
  "kernelspec": {
   "display_name": "Python 3 (ipykernel)",
   "language": "python",
   "name": "python3"
  },
  "language_info": {
   "codemirror_mode": {
    "name": "ipython",
    "version": 3
   },
   "file_extension": ".py",
   "mimetype": "text/x-python",
   "name": "python",
   "nbconvert_exporter": "python",
   "pygments_lexer": "ipython3",
   "version": "3.11.7"
  }
 },
 "nbformat": 4,
 "nbformat_minor": 4
}
